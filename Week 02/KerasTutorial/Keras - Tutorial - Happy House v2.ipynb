{
 "cells": [
  {
   "cell_type": "markdown",
   "metadata": {},
   "source": [
    "# Keras tutorial - the Happy House\n",
    "\n",
    "Welcome to the first assignment of week 2. In this assignment, you will:\n",
    "1. Learn to use Keras, a high-level neural networks API (programming framework), written in Python and capable of running on top of several lower-level frameworks including TensorFlow and CNTK. \n",
    "2. See how you can in a couple of hours build a deep learning algorithm.\n",
    "\n",
    "Why are we using Keras? Keras was developed to enable deep learning engineers to build and experiment with different models very quickly. Just as TensorFlow is a higher-level framework than Python, Keras is an even higher-level framework and provides additional abstractions. Being able to go from idea to result with the least possible delay is key to finding good models. However, Keras is more restrictive than the lower-level frameworks, so there are some very complex models that you can implement in TensorFlow but not (without more difficulty) in Keras. That being said, Keras will work fine for many common models. \n",
    "\n",
    "In this exercise, you'll work on the \"Happy House\" problem, which we'll explain below. Let's load the required packages and solve the problem of the Happy House!"
   ]
  },
  {
   "cell_type": "code",
   "execution_count": 1,
   "metadata": {
    "scrolled": true
   },
   "outputs": [
    {
     "name": "stderr",
     "output_type": "stream",
     "text": [
      "/anaconda3/lib/python3.6/site-packages/h5py/__init__.py:36: FutureWarning: Conversion of the second argument of issubdtype from `float` to `np.floating` is deprecated. In future, it will be treated as `np.float64 == np.dtype(float).type`.\n",
      "  from ._conv import register_converters as _register_converters\n",
      "Using TensorFlow backend.\n"
     ]
    }
   ],
   "source": [
    "import numpy as np\n",
    "from keras import layers\n",
    "from keras.layers import Input, Dense, Activation, ZeroPadding2D, BatchNormalization, Flatten, Conv2D\n",
    "from keras.layers import AveragePooling2D, MaxPooling2D, Dropout, GlobalMaxPooling2D, GlobalAveragePooling2D\n",
    "from keras.models import Model\n",
    "from keras.preprocessing import image\n",
    "from keras.utils import layer_utils\n",
    "from keras.utils.data_utils import get_file\n",
    "from keras.applications.imagenet_utils import preprocess_input\n",
    "import pydot\n",
    "from IPython.display import SVG\n",
    "from keras.utils.vis_utils import model_to_dot\n",
    "from keras.utils import plot_model\n",
    "from kt_utils import *\n",
    "\n",
    "import keras.backend as K\n",
    "K.set_image_data_format('channels_last')\n",
    "import matplotlib.pyplot as plt\n",
    "from matplotlib.pyplot import imshow\n",
    "\n",
    "%matplotlib inline"
   ]
  },
  {
   "cell_type": "markdown",
   "metadata": {},
   "source": [
    "**Note**: As you can see, we've imported a lot of functions from Keras. You can use them easily just by calling them directly in the notebook. Ex: `X = Input(...)` or `X = ZeroPadding2D(...)`."
   ]
  },
  {
   "cell_type": "markdown",
   "metadata": {},
   "source": [
    "## 1 - The Happy House \n",
    "\n",
    "For your next vacation, you decided to spend a week with five of your friends from school. It is a very convenient house with many things to do nearby. But the most important benefit is that everybody has commited to be happy when they are in the house. So anyone wanting to enter the house must prove their current state of happiness.\n",
    "\n",
    "<img src=\"images/happy-house.jpg\" style=\"width:350px;height:270px;\">\n",
    "<caption><center> <u> <font color='purple'> **Figure 1** </u><font color='purple'>  : **the Happy House**</center></caption>\n",
    "\n",
    "\n",
    "As a deep learning expert, to make sure the \"Happy\" rule is strictly applied, you are going to build an algorithm which that uses pictures from the front door camera to check if the person is happy or not. The door should open only if the person is happy. \n",
    "\n",
    "You have gathered pictures of your friends and yourself, taken by the front-door camera. The dataset is labbeled. \n",
    "\n",
    "<img src=\"images/house-members.png\" style=\"width:550px;height:250px;\">\n",
    "\n",
    "Run the following code to normalize the dataset and learn about its shapes."
   ]
  },
  {
   "cell_type": "code",
   "execution_count": 2,
   "metadata": {
    "scrolled": false
   },
   "outputs": [
    {
     "name": "stdout",
     "output_type": "stream",
     "text": [
      "number of training examples = 600\n",
      "number of test examples = 150\n",
      "X_train shape: (600, 64, 64, 3)\n",
      "Y_train shape: (600, 1)\n",
      "X_test shape: (150, 64, 64, 3)\n",
      "Y_test shape: (150, 1)\n"
     ]
    }
   ],
   "source": [
    "X_train_orig, Y_train_orig, X_test_orig, Y_test_orig, classes = load_dataset()\n",
    "\n",
    "# Normalize image vectors\n",
    "X_train = X_train_orig/255.\n",
    "X_test = X_test_orig/255.\n",
    "\n",
    "# Reshape\n",
    "Y_train = Y_train_orig.T\n",
    "Y_test = Y_test_orig.T\n",
    "\n",
    "print (\"number of training examples = \" + str(X_train.shape[0]))\n",
    "print (\"number of test examples = \" + str(X_test.shape[0]))\n",
    "print (\"X_train shape: \" + str(X_train.shape))\n",
    "print (\"Y_train shape: \" + str(Y_train.shape))\n",
    "print (\"X_test shape: \" + str(X_test.shape))\n",
    "print (\"Y_test shape: \" + str(Y_test.shape))"
   ]
  },
  {
   "cell_type": "markdown",
   "metadata": {},
   "source": [
    "**Details of the \"Happy\" dataset**:\n",
    "- Images are of shape (64,64,3)\n",
    "- Training: 600 pictures\n",
    "- Test: 150 pictures\n",
    "\n",
    "It is now time to solve the \"Happy\" Challenge."
   ]
  },
  {
   "cell_type": "markdown",
   "metadata": {},
   "source": [
    "## 2 - Building a model in Keras\n",
    "\n",
    "Keras is very good for rapid prototyping. In just a short time you will be able to build a model that achieves outstanding results.\n",
    "\n",
    "Here is an example of a model in Keras:\n",
    "\n",
    "```python\n",
    "def model(input_shape):\n",
    "    # Define the input placeholder as a tensor with shape input_shape. Think of this as your input image!\n",
    "    X_input = Input(input_shape)\n",
    "\n",
    "    # Zero-Padding: pads the border of X_input with zeroes\n",
    "    X = ZeroPadding2D((3, 3))(X_input)\n",
    "\n",
    "    # CONV -> BN -> RELU Block applied to X\n",
    "    X = Conv2D(32, (7, 7), strides = (1, 1), name = 'conv0')(X)\n",
    "    X = BatchNormalization(axis = 3, name = 'bn0')(X)\n",
    "    X = Activation('relu')(X)\n",
    "\n",
    "    # MAXPOOL\n",
    "    X = MaxPooling2D((2, 2), name='max_pool')(X)\n",
    "\n",
    "    # FLATTEN X (means convert it to a vector) + FULLYCONNECTED\n",
    "    X = Flatten()(X)\n",
    "    X = Dense(1, activation='sigmoid', name='fc')(X)\n",
    "\n",
    "    # Create model. This creates your Keras model instance, you'll use this instance to train/test the model.\n",
    "    model = Model(inputs = X_input, outputs = X, name='HappyModel')\n",
    "    \n",
    "    return model\n",
    "```\n",
    "\n",
    "Note that Keras uses a different convention with variable names than we've previously used with numpy and TensorFlow. In particular, rather than creating and assigning a new variable on each step of forward propagation such as `X`, `Z1`, `A1`, `Z2`, `A2`, etc. for the computations for the different layers, in Keras code each line above just reassigns `X` to a new value using `X = ...`. In other words, during each step of forward propagation, we are just writing the latest value in the commputation into the same variable `X`. The only exception was `X_input`, which we kept separate and did not overwrite, since we needed it at the end to create the Keras model instance (`model = Model(inputs = X_input, ...)` above). \n",
    "\n",
    "**Exercise**: Implement a `HappyModel()`. This assignment is more open-ended than most. We suggest that you start by implementing a model using the architecture we suggest, and run through the rest of this assignment using that as your initial model. But after that, come back and take initiative to try out other model architectures. For example, you might take inspiration from the model above, but then vary the network architecture and hyperparameters however you wish. You can also use other functions such as `AveragePooling2D()`, `GlobalMaxPooling2D()`, `Dropout()`. \n",
    "\n",
    "**Note**: You have to be careful with your data's shapes. Use what you've learned in the videos to make sure your convolutional, pooling and fully-connected layers are adapted to the volumes you're applying it to."
   ]
  },
  {
   "cell_type": "code",
   "execution_count": 13,
   "metadata": {},
   "outputs": [],
   "source": [
    "# GRADED FUNCTION: HappyModel\n",
    "\n",
    "def HappyModel(input_shape):\n",
    "    \"\"\"\n",
    "    Implementation of the HappyModel.\n",
    "    \n",
    "    Arguments:\n",
    "    input_shape -- shape of the images of the dataset\n",
    "\n",
    "    Returns:\n",
    "    model -- a Model() instance in Keras\n",
    "    \"\"\"\n",
    "    \n",
    "    ### START CODE HERE ###\n",
    "    print(\"input_shape = \" + str(input_shape))\n",
    "    # Feel free to use the suggested outline in the text above to get started, and run through the whole\n",
    "    # exercise (including the later portions of this notebook) once. The come back also try out other\n",
    "    # network architectures as well. \n",
    "    x_1 = Input(input_shape)\n",
    "    x = ZeroPadding2D(2)(x_1)\n",
    "    print(\"x.shape = \" + str(x.shape))\n",
    "    \n",
    "    # CONV -> BN -> RELU Block\n",
    "    conv0 = layers.Conv2D(32, (3,3), strides=(1, 1), name='conv0')(x)\n",
    "    print(\"conv.shape = \" + str(conv0.shape))\n",
    "    \n",
    "    bn0 = layers.BatchNormalization(name='bn0')(conv0)\n",
    "    print(\"bno.shape = \" + str(bn0.shape))\n",
    "    activ0 = layers.Activation(activation='tanh', name='activ0')(bn0)\n",
    "    print(\"activ0.shape = \" + str(activ0.shape))\n",
    "    \n",
    "    maxp0 = layers.MaxPooling2D((2,2), strides = (1, 1), name = 'maxp0')(activ0)\n",
    "    print(\"maxp0.shape = \" + str(maxp0.shape))\n",
    "    \n",
    "    flat0 = Flatten(name='flat0')(maxp0)\n",
    "    print(\"flat0.shape = \" + str(flat0.shape))\n",
    "    \n",
    "    dense0 = layers.Dense(1, activation='sigmoid', name = 'dense0')(flat0)\n",
    "    print(\"dense0.shape = \" + str(dense0.shape))\n",
    "    \n",
    "    model = Model(input = x_1, output = dense0, name = 'model')\n",
    "    ### END CODE HERE ###\n",
    "    model.summary()\n",
    "    return model"
   ]
  },
  {
   "cell_type": "code",
   "execution_count": 12,
   "metadata": {},
   "outputs": [
    {
     "name": "stdout",
     "output_type": "stream",
     "text": [
      "Name: Keras\n",
      "Version: 2.1.5\n",
      "Summary: Deep Learning for humans\n",
      "Home-page: https://github.com/keras-team/keras\n",
      "Author: Francois Chollet\n",
      "Author-email: francois.chollet@gmail.com\n",
      "License: MIT\n",
      "Location: /anaconda3/lib/python3.6/site-packages\n",
      "Requires: numpy, pyyaml, scipy, six\n",
      "\u001b[33mYou are using pip version 9.0.1, however version 9.0.3 is available.\n",
      "You should consider upgrading via the 'pip install --upgrade pip' command.\u001b[0m\n"
     ]
    }
   ],
   "source": [
    "!pip show keras"
   ]
  },
  {
   "cell_type": "markdown",
   "metadata": {},
   "source": [
    "You have now built a function to describe your model. To train and test this model, there are four steps in Keras:\n",
    "1. Create the model by calling the function above\n",
    "2. Compile the model by calling `model.compile(optimizer = \"...\", loss = \"...\", metrics = [\"accuracy\"])`\n",
    "3. Train the model on train data by calling `model.fit(x = ..., y = ..., epochs = ..., batch_size = ...)`\n",
    "4. Test the model on test data by calling `model.evaluate(x = ..., y = ...)`\n",
    "\n",
    "If you want to know more about `model.compile()`, `model.fit()`, `model.evaluate()` and their arguments, refer to the official [Keras documentation](https://keras.io/models/model/).\n",
    "\n",
    "**Exercise**: Implement step 1, i.e. create the model."
   ]
  },
  {
   "cell_type": "code",
   "execution_count": 14,
   "metadata": {},
   "outputs": [
    {
     "name": "stdout",
     "output_type": "stream",
     "text": [
      "input_shape = (64, 64, 3)\n",
      "x.shape = (?, 68, 68, 3)\n",
      "conv.shape = (?, 66, 66, 32)\n",
      "bno.shape = (?, 66, 66, 32)\n",
      "activ0.shape = (?, 66, 66, 32)\n",
      "maxp0.shape = (?, 65, 65, 32)\n",
      "flat0.shape = (?, ?)\n",
      "dense0.shape = (?, 1)\n",
      "_________________________________________________________________\n",
      "Layer (type)                 Output Shape              Param #   \n",
      "=================================================================\n",
      "input_2 (InputLayer)         (None, 64, 64, 3)         0         \n",
      "_________________________________________________________________\n",
      "zero_padding2d_2 (ZeroPaddin (None, 68, 68, 3)         0         \n",
      "_________________________________________________________________\n",
      "conv0 (Conv2D)               (None, 66, 66, 32)        896       \n",
      "_________________________________________________________________\n",
      "bn0 (BatchNormalization)     (None, 66, 66, 32)        128       \n",
      "_________________________________________________________________\n",
      "activ0 (Activation)          (None, 66, 66, 32)        0         \n",
      "_________________________________________________________________\n",
      "maxp0 (MaxPooling2D)         (None, 65, 65, 32)        0         \n",
      "_________________________________________________________________\n",
      "flat0 (Flatten)              (None, 135200)            0         \n",
      "_________________________________________________________________\n",
      "dense0 (Dense)               (None, 1)                 135201    \n",
      "=================================================================\n",
      "Total params: 136,225\n",
      "Trainable params: 136,161\n",
      "Non-trainable params: 64\n",
      "_________________________________________________________________\n"
     ]
    },
    {
     "name": "stderr",
     "output_type": "stream",
     "text": [
      "/anaconda3/lib/python3.6/site-packages/ipykernel_launcher.py:41: UserWarning: Update your `Model` call to the Keras 2 API: `Model(name=\"model\", inputs=Tensor(\"in..., outputs=Tensor(\"de...)`\n"
     ]
    }
   ],
   "source": [
    "### START CODE HERE ### (1 line)\n",
    "happyModel = HappyModel((X_train.shape[1], X_train.shape[2], X_train.shape[3]))\n",
    "### END CODE HERE ###"
   ]
  },
  {
   "cell_type": "markdown",
   "metadata": {},
   "source": [
    "**Exercise**: Implement step 2, i.e. compile the model to configure the learning process. Choose the 3 arguments of `compile()` wisely. Hint: the Happy Challenge is a binary classification problem."
   ]
  },
  {
   "cell_type": "code",
   "execution_count": 7,
   "metadata": {},
   "outputs": [],
   "source": [
    "### START CODE HERE ### (1 line)\n",
    "happyModel.compile(optimizer='adam',\n",
    "              loss='mean_squared_error',\n",
    "              metrics=['accuracy'])\n",
    "### END CODE HERE ###"
   ]
  },
  {
   "cell_type": "code",
   "execution_count": 11,
   "metadata": {},
   "outputs": [
    {
     "name": "stdout",
     "output_type": "stream",
     "text": [
      "[[[[0.8745098  0.81176471 0.62352941]\n",
      "   [0.85098039 0.81568627 0.61176471]\n",
      "   [0.87058824 0.85098039 0.6627451 ]\n",
      "   ...\n",
      "   [1.         1.         0.99215686]\n",
      "   [1.         1.         0.99215686]\n",
      "   [1.         1.         0.99215686]]\n",
      "\n",
      "  [[0.85490196 0.8        0.60392157]\n",
      "   [0.84313725 0.79215686 0.64705882]\n",
      "   [0.85490196 0.82352941 0.6745098 ]\n",
      "   ...\n",
      "   [1.         1.         0.99215686]\n",
      "   [1.         1.         0.99215686]\n",
      "   [1.         1.         0.99215686]]\n",
      "\n",
      "  [[0.79215686 0.74117647 0.57254902]\n",
      "   [0.81176471 0.76078431 0.59607843]\n",
      "   [0.88627451 0.85490196 0.7372549 ]\n",
      "   ...\n",
      "   [0.99607843 1.         0.98431373]\n",
      "   [0.99215686 0.99607843 0.97647059]\n",
      "   [1.         1.         0.99215686]]\n",
      "\n",
      "  ...\n",
      "\n",
      "  [[0.89019608 0.90196078 0.76862745]\n",
      "   [0.97254902 0.97647059 0.91372549]\n",
      "   [1.         1.         0.99215686]\n",
      "   ...\n",
      "   [0.41568627 0.26666667 0.16862745]\n",
      "   [0.42352941 0.26666667 0.16862745]\n",
      "   [0.43137255 0.27843137 0.18039216]]\n",
      "\n",
      "  [[0.92156863 0.92941176 0.80784314]\n",
      "   [0.98039216 0.98039216 0.92156863]\n",
      "   [1.         1.         0.99215686]\n",
      "   ...\n",
      "   [0.4        0.25490196 0.16078431]\n",
      "   [0.41176471 0.25882353 0.16078431]\n",
      "   [0.41960784 0.26666667 0.16470588]]\n",
      "\n",
      "  [[0.89019608 0.90588235 0.73333333]\n",
      "   [0.94117647 0.94901961 0.85490196]\n",
      "   [1.         1.         0.98823529]\n",
      "   ...\n",
      "   [0.38823529 0.24313725 0.15294118]\n",
      "   [0.4        0.25098039 0.15686275]\n",
      "   [0.40784314 0.25490196 0.15686275]]]\n",
      "\n",
      "\n",
      " [[[0.80392157 0.85098039 0.69803922]\n",
      "   [0.76078431 0.81960784 0.63529412]\n",
      "   [0.87843137 0.9254902  0.77254902]\n",
      "   ...\n",
      "   [0.70980392 0.66666667 0.60392157]\n",
      "   [0.67843137 0.63137255 0.55686275]\n",
      "   [0.65098039 0.60784314 0.52156863]]\n",
      "\n",
      "  [[0.8        0.84313725 0.7254902 ]\n",
      "   [0.77647059 0.83529412 0.65098039]\n",
      "   [0.84313725 0.88627451 0.69803922]\n",
      "   ...\n",
      "   [0.89411765 0.88627451 0.8627451 ]\n",
      "   [0.75686275 0.74901961 0.67843137]\n",
      "   [0.72156863 0.69803922 0.6       ]]\n",
      "\n",
      "  [[0.79607843 0.84313725 0.70588235]\n",
      "   [0.81568627 0.8627451  0.68235294]\n",
      "   [0.82352941 0.85882353 0.67058824]\n",
      "   ...\n",
      "   [0.95686275 0.97254902 0.95686275]\n",
      "   [0.80784314 0.86666667 0.8       ]\n",
      "   [0.77254902 0.83137255 0.71764706]]\n",
      "\n",
      "  ...\n",
      "\n",
      "  [[0.70588235 0.78823529 0.76078431]\n",
      "   [0.56078431 0.61960784 0.7254902 ]\n",
      "   [0.49019608 0.52941176 0.61568627]\n",
      "   ...\n",
      "   [0.14509804 0.12941176 0.11764706]\n",
      "   [0.14509804 0.12941176 0.11764706]\n",
      "   [0.14509804 0.13333333 0.11764706]]\n",
      "\n",
      "  [[0.58039216 0.64705882 0.75294118]\n",
      "   [0.48235294 0.5254902  0.61568627]\n",
      "   [0.42745098 0.45490196 0.51764706]\n",
      "   ...\n",
      "   [0.1372549  0.12156863 0.10980392]\n",
      "   [0.14509804 0.12941176 0.11764706]\n",
      "   [0.14901961 0.13333333 0.11764706]]\n",
      "\n",
      "  [[0.50588235 0.55686275 0.64313725]\n",
      "   [0.42352941 0.45490196 0.52156863]\n",
      "   [0.38039216 0.4        0.44705882]\n",
      "   ...\n",
      "   [0.1372549  0.12156863 0.10980392]\n",
      "   [0.1372549  0.12156863 0.10980392]\n",
      "   [0.14509804 0.12941176 0.11764706]]]\n",
      "\n",
      "\n",
      " [[[0.69411765 0.63137255 0.45098039]\n",
      "   [0.77647059 0.74117647 0.52156863]\n",
      "   [0.78039216 0.75686275 0.56862745]\n",
      "   ...\n",
      "   [0.64313725 0.53333333 0.4627451 ]\n",
      "   [0.58823529 0.47843137 0.40784314]\n",
      "   [0.62745098 0.51372549 0.41176471]]\n",
      "\n",
      "  [[0.72156863 0.69019608 0.47843137]\n",
      "   [0.80784314 0.79215686 0.55294118]\n",
      "   [0.77254902 0.76470588 0.56862745]\n",
      "   ...\n",
      "   [0.94901961 0.84313725 0.65490196]\n",
      "   [0.89019608 0.77647059 0.6       ]\n",
      "   [0.80784314 0.69019608 0.52941176]]\n",
      "\n",
      "  [[0.70588235 0.6745098  0.50588235]\n",
      "   [0.68627451 0.66666667 0.49019608]\n",
      "   [0.67058824 0.64705882 0.47843137]\n",
      "   ...\n",
      "   [0.98431373 0.91764706 0.73333333]\n",
      "   [0.97647059 0.89019608 0.68627451]\n",
      "   [0.98823529 0.89019608 0.6745098 ]]\n",
      "\n",
      "  ...\n",
      "\n",
      "  [[1.         1.         1.        ]\n",
      "   [1.         1.         1.        ]\n",
      "   [1.         1.         1.        ]\n",
      "   ...\n",
      "   [0.12941176 0.11372549 0.07058824]\n",
      "   [0.14901961 0.12941176 0.08627451]\n",
      "   [0.15686275 0.1372549  0.09019608]]\n",
      "\n",
      "  [[1.         1.         1.        ]\n",
      "   [1.         1.         1.        ]\n",
      "   [1.         1.         1.        ]\n",
      "   ...\n",
      "   [0.1254902  0.10588235 0.06666667]\n",
      "   [0.14509804 0.12156863 0.08235294]\n",
      "   [0.14901961 0.12941176 0.08235294]]\n",
      "\n",
      "  [[1.         1.         1.        ]\n",
      "   [1.         1.         1.        ]\n",
      "   [0.97647059 0.97647059 0.97254902]\n",
      "   ...\n",
      "   [0.12156863 0.10588235 0.06666667]\n",
      "   [0.1372549  0.11764706 0.07843137]\n",
      "   [0.14509804 0.1254902  0.08235294]]]\n",
      "\n",
      "\n",
      " ...\n",
      "\n",
      "\n",
      " [[[0.85490196 0.89019608 0.72941176]\n",
      "   [0.83137255 0.8745098  0.67843137]\n",
      "   [0.94117647 0.96470588 0.81568627]\n",
      "   ...\n",
      "   [0.84313725 0.81176471 0.75686275]\n",
      "   [0.77647059 0.7372549  0.65098039]\n",
      "   [0.75686275 0.70196078 0.6       ]]\n",
      "\n",
      "  [[0.88235294 0.90980392 0.79607843]\n",
      "   [0.8745098  0.90980392 0.7254902 ]\n",
      "   [0.89411765 0.9254902  0.73333333]\n",
      "   ...\n",
      "   [0.97647059 0.98039216 0.96470588]\n",
      "   [0.89019608 0.90588235 0.84705882]\n",
      "   [0.85882353 0.8627451  0.76470588]]\n",
      "\n",
      "  [[0.87843137 0.90980392 0.76470588]\n",
      "   [0.90196078 0.92941176 0.76470588]\n",
      "   [0.89019608 0.91764706 0.74117647]\n",
      "   ...\n",
      "   [0.95294118 0.97647059 0.94117647]\n",
      "   [0.84705882 0.90196078 0.82352941]\n",
      "   [0.84313725 0.89411765 0.78431373]]\n",
      "\n",
      "  ...\n",
      "\n",
      "  [[0.80784314 0.87058824 0.81568627]\n",
      "   [0.63137255 0.68235294 0.78039216]\n",
      "   [0.55686275 0.58823529 0.67058824]\n",
      "   ...\n",
      "   [0.13333333 0.11372549 0.10196078]\n",
      "   [0.14901961 0.12941176 0.11372549]\n",
      "   [0.15686275 0.1372549  0.12156863]]\n",
      "\n",
      "  [[0.66666667 0.72156863 0.81568627]\n",
      "   [0.54901961 0.58823529 0.67058824]\n",
      "   [0.48235294 0.50196078 0.56470588]\n",
      "   ...\n",
      "   [0.1372549  0.12156863 0.10588235]\n",
      "   [0.14509804 0.1254902  0.11372549]\n",
      "   [0.16470588 0.14509804 0.12941176]]\n",
      "\n",
      "  [[0.57647059 0.61960784 0.70196078]\n",
      "   [0.47843137 0.50196078 0.56078431]\n",
      "   [0.43529412 0.45098039 0.49411765]\n",
      "   ...\n",
      "   [0.14509804 0.12941176 0.11372549]\n",
      "   [0.14901961 0.13333333 0.11764706]\n",
      "   [0.16078431 0.14117647 0.1254902 ]]]\n",
      "\n",
      "\n",
      " [[[0.70196078 0.60392157 0.42352941]\n",
      "   [0.69803922 0.62352941 0.42745098]\n",
      "   [0.6627451  0.59215686 0.40784314]\n",
      "   ...\n",
      "   [0.96862745 0.96862745 0.74117647]\n",
      "   [0.96470588 0.96470588 0.65882353]\n",
      "   [0.96862745 0.96862745 0.6745098 ]]\n",
      "\n",
      "  [[0.67843137 0.57647059 0.39215686]\n",
      "   [0.76470588 0.68627451 0.45490196]\n",
      "   [0.74509804 0.69411765 0.46666667]\n",
      "   ...\n",
      "   [0.98431373 0.98431373 0.78039216]\n",
      "   [0.98823529 0.98823529 0.73333333]\n",
      "   [0.98039216 0.98039216 0.71372549]]\n",
      "\n",
      "  [[0.78823529 0.63137255 0.45490196]\n",
      "   [0.79607843 0.68235294 0.46666667]\n",
      "   [0.76862745 0.71764706 0.4627451 ]\n",
      "   ...\n",
      "   [0.97254902 0.96862745 0.7372549 ]\n",
      "   [0.98823529 0.98431373 0.74901961]\n",
      "   [0.98431373 0.98431373 0.74901961]]\n",
      "\n",
      "  ...\n",
      "\n",
      "  [[0.45882353 0.46666667 0.33333333]\n",
      "   [0.5372549  0.53333333 0.35294118]\n",
      "   [0.51764706 0.52941176 0.38039216]\n",
      "   ...\n",
      "   [0.38039216 0.36470588 0.2745098 ]\n",
      "   [0.37647059 0.34509804 0.2627451 ]\n",
      "   [0.46666667 0.42352941 0.25882353]]\n",
      "\n",
      "  [[0.45098039 0.44313725 0.30588235]\n",
      "   [0.4745098  0.4745098  0.34901961]\n",
      "   [0.45882353 0.4745098  0.32941176]\n",
      "   ...\n",
      "   [0.27843137 0.25882353 0.19607843]\n",
      "   [0.30196078 0.2745098  0.20784314]\n",
      "   [0.41176471 0.36862745 0.29019608]]\n",
      "\n",
      "  [[0.50196078 0.48235294 0.3372549 ]\n",
      "   [0.70196078 0.67843137 0.54901961]\n",
      "   [0.57254902 0.54901961 0.39607843]\n",
      "   ...\n",
      "   [0.34509804 0.30980392 0.23921569]\n",
      "   [0.41176471 0.38039216 0.2745098 ]\n",
      "   [0.27058824 0.23137255 0.21960784]]]\n",
      "\n",
      "\n",
      " [[[0.79607843 0.85882353 0.70588235]\n",
      "   [0.76470588 0.83529412 0.67843137]\n",
      "   [0.82352941 0.88627451 0.74901961]\n",
      "   ...\n",
      "   [0.46666667 0.44705882 0.42745098]\n",
      "   [0.40392157 0.38823529 0.37647059]\n",
      "   [0.35294118 0.34117647 0.32941176]]\n",
      "\n",
      "  [[0.69019608 0.75294118 0.61176471]\n",
      "   [0.70588235 0.77254902 0.6       ]\n",
      "   [0.78823529 0.85490196 0.69019608]\n",
      "   ...\n",
      "   [0.61568627 0.58431373 0.53333333]\n",
      "   [0.58039216 0.54509804 0.47843137]\n",
      "   [0.55686275 0.51764706 0.44705882]]\n",
      "\n",
      "  [[0.71764706 0.78039216 0.65490196]\n",
      "   [0.72156863 0.78431373 0.60784314]\n",
      "   [0.73333333 0.78431373 0.60392157]\n",
      "   ...\n",
      "   [0.77254902 0.79215686 0.76470588]\n",
      "   [0.67058824 0.69019608 0.60784314]\n",
      "   [0.58823529 0.59215686 0.51372549]]\n",
      "\n",
      "  ...\n",
      "\n",
      "  [[0.61176471 0.69411765 0.81568627]\n",
      "   [0.53333333 0.59607843 0.72156863]\n",
      "   [0.4745098  0.5254902  0.63921569]\n",
      "   ...\n",
      "   [0.10980392 0.09803922 0.09019608]\n",
      "   [0.1254902  0.11372549 0.10588235]\n",
      "   [0.13333333 0.12156863 0.10980392]]\n",
      "\n",
      "  [[0.50588235 0.57254902 0.69803922]\n",
      "   [0.47058824 0.52156863 0.63137255]\n",
      "   [0.41568627 0.45098039 0.54117647]\n",
      "   ...\n",
      "   [0.12156863 0.10588235 0.09803922]\n",
      "   [0.1254902  0.11372549 0.10196078]\n",
      "   [0.14117647 0.1254902  0.11764706]]\n",
      "\n",
      "  [[0.45098039 0.50588235 0.61176471]\n",
      "   [0.41176471 0.45098039 0.54117647]\n",
      "   [0.36862745 0.4        0.47058824]\n",
      "   ...\n",
      "   [0.12156863 0.10588235 0.09803922]\n",
      "   [0.1254902  0.10980392 0.10196078]\n",
      "   [0.14509804 0.12941176 0.11764706]]]]\n"
     ]
    }
   ],
   "source": [
    "print(X_test)"
   ]
  },
  {
   "cell_type": "markdown",
   "metadata": {},
   "source": [
    "**Exercise**: Implement step 3, i.e. train the model. Choose the number of epochs and the batch size."
   ]
  },
  {
   "cell_type": "code",
   "execution_count": 6,
   "metadata": {},
   "outputs": [
    {
     "name": "stdout",
     "output_type": "stream",
     "text": [
      "Epoch 1/6\n",
      " - 4s - loss: 0.4830 - acc: 0.5100\n",
      "Epoch 2/6\n",
      " - 4s - loss: 0.5000 - acc: 0.5000\n",
      "Epoch 3/6\n",
      " - 3s - loss: 0.5000 - acc: 0.5000\n",
      "Epoch 4/6\n",
      " - 3s - loss: 0.5000 - acc: 0.5000\n",
      "Epoch 5/6\n",
      " - 4s - loss: 0.5000 - acc: 0.5000\n",
      "Epoch 6/6\n",
      " - 3s - loss: 0.5000 - acc: 0.5000\n"
     ]
    },
    {
     "data": {
      "text/plain": [
       "<keras.callbacks.History at 0x181c56b9b0>"
      ]
     },
     "execution_count": 6,
     "metadata": {},
     "output_type": "execute_result"
    }
   ],
   "source": [
    "### START CODE HERE ### (1 line)\n",
    "happyModel.fit(x = X_train, y = Y_train, batch_size = 32, verbose = 2, epochs = 6)\n",
    "### END CODE HERE ###"
   ]
  },
  {
   "cell_type": "markdown",
   "metadata": {},
   "source": [
    "Note that if you run `fit()` again, the `model` will continue to train with the parameters it has already learnt instead of reinitializing them.\n",
    "\n",
    "**Exercise**: Implement step 4, i.e. test/evaluate the model."
   ]
  },
  {
   "cell_type": "code",
   "execution_count": 74,
   "metadata": {
    "scrolled": true
   },
   "outputs": [
    {
     "name": "stdout",
     "output_type": "stream",
     "text": [
      "150/150 [==============================] - 2s 13ms/step\n",
      "\n",
      "Loss = 0.440000001589\n",
      "Test Accuracy = 0.559999998411\n"
     ]
    }
   ],
   "source": [
    "### START CODE HERE ### (1 line)\n",
    "preds = happyModel.evaluate(x=X_test, y=Y_test)\n",
    "### END CODE HERE ###\n",
    "print()\n",
    "print (\"Loss = \" + str(preds[0]))\n",
    "print (\"Test Accuracy = \" + str(preds[1]))"
   ]
  },
  {
   "cell_type": "markdown",
   "metadata": {},
   "source": [
    "If your `happyModel()` function worked, you should have observed much better than random-guessing (50%) accuracy on the train and test sets.\n",
    "\n",
    "To give you a point of comparison, our model gets around **95% test accuracy in 40 epochs** (and 99% train accuracy) with a mini batch size of 16 and \"adam\" optimizer. But our model gets decent accuracy after just 2-5 epochs, so if you're comparing different models you can also train a variety of models on just a few epochs and see how they compare. \n",
    "\n",
    "If you have not yet achieved a very good accuracy (let's say more than 80%), here're some things you can play around with to try to achieve it:\n",
    "\n",
    "- Try using blocks of CONV->BATCHNORM->RELU such as:\n",
    "```python\n",
    "X = Conv2D(32, (3, 3), strides = (1, 1), name = 'conv0')(X)\n",
    "X = BatchNormalization(axis = 3, name = 'bn0')(X)\n",
    "X = Activation('relu')(X)\n",
    "```\n",
    "until your height and width dimensions are quite low and your number of channels quite large (≈32 for example). You are encoding useful information in a volume with a lot of channels. You can then flatten the volume and use a fully-connected layer.\n",
    "- You can use MAXPOOL after such blocks. It will help you lower the dimension in height and width.\n",
    "- Change your optimizer. We find Adam works well. \n",
    "- If the model is struggling to run and you get memory issues, lower your batch_size (12 is usually a good compromise)\n",
    "- Run on more epochs, until you see the train accuracy plateauing. \n",
    "\n",
    "Even if you have achieved a good accuracy, please feel free to keep playing with your model to try to get even better results. \n",
    "\n",
    "**Note**: If you perform hyperparameter tuning on your model, the test set actually becomes a dev set, and your model might end up overfitting to the test (dev) set. But just for the purpose of this assignment, we won't worry about that here.\n"
   ]
  },
  {
   "cell_type": "markdown",
   "metadata": {},
   "source": [
    "## 3 - Conclusion\n",
    "\n",
    "Congratulations, you have solved the Happy House challenge! \n",
    "\n",
    "Now, you just need to link this model to the front-door camera of your house. We unfortunately won't go into the details of how to do that here. "
   ]
  },
  {
   "cell_type": "markdown",
   "metadata": {},
   "source": [
    "<font color='blue'>\n",
    "**What we would like you to remember from this assignment:**\n",
    "- Keras is a tool we recommend for rapid prototyping. It allows you to quickly try out different model architectures. Are there any applications of deep learning to your daily life that you'd like to implement using Keras? \n",
    "- Remember how to code a model in Keras and the four steps leading to the evaluation of your model on the test set. Create->Compile->Fit/Train->Evaluate/Test."
   ]
  },
  {
   "cell_type": "markdown",
   "metadata": {},
   "source": [
    "## 4 - Test with your own image (Optional)\n",
    "\n",
    "Congratulations on finishing this assignment. You can now take a picture of your face and see if you could enter the Happy House. To do that:\n",
    "    1. Click on \"File\" in the upper bar of this notebook, then click \"Open\" to go on your Coursera Hub.\n",
    "    2. Add your image to this Jupyter Notebook's directory, in the \"images\" folder\n",
    "    3. Write your image's name in the following code\n",
    "    4. Run the code and check if the algorithm is right (0 is unhappy, 1 is happy)!\n",
    "    \n",
    "The training/test sets were quite similar; for example, all the pictures were taken against the same background (since a front door camera is always mounted in the same position). This makes the problem easier, but a model trained on this data may or may not work on your own data. But feel free to give it a try! "
   ]
  },
  {
   "cell_type": "code",
   "execution_count": null,
   "metadata": {
    "collapsed": true
   },
   "outputs": [],
   "source": [
    "### START CODE HERE ###\n",
    "img_path = 'images/my_image.jpg'\n",
    "### END CODE HERE ###\n",
    "img = image.load_img(img_path, target_size=(64, 64))\n",
    "imshow(img)\n",
    "\n",
    "x = image.img_to_array(img)\n",
    "x = np.expand_dims(x, axis=0)\n",
    "x = preprocess_input(x)\n",
    "\n",
    "print(happyModel.predict(x))"
   ]
  },
  {
   "cell_type": "markdown",
   "metadata": {},
   "source": [
    "## 5 - Other useful functions in Keras (Optional)\n",
    "\n",
    "Two other basic features of Keras that you'll find useful are:\n",
    "- `model.summary()`: prints the details of your layers in a table with the sizes of its inputs/outputs\n",
    "- `plot_model()`: plots your graph in a nice layout. You can even save it as \".png\" using SVG() if you'd like to share it on social media ;). It is saved in \"File\" then \"Open...\" in the upper bar of the notebook.\n",
    "\n",
    "Run the following code."
   ]
  },
  {
   "cell_type": "code",
   "execution_count": null,
   "metadata": {
    "collapsed": true,
    "scrolled": false
   },
   "outputs": [],
   "source": [
    "happyModel.summary()"
   ]
  },
  {
   "cell_type": "code",
   "execution_count": null,
   "metadata": {
    "collapsed": true
   },
   "outputs": [],
   "source": [
    "plot_model(happyModel, to_file='HappyModel.png')\n",
    "SVG(model_to_dot(happyModel).create(prog='dot', format='svg'))"
   ]
  }
 ],
 "metadata": {
  "kernelspec": {
   "display_name": "Python 3",
   "language": "python",
   "name": "python3"
  },
  "language_info": {
   "codemirror_mode": {
    "name": "ipython",
    "version": 3
   },
   "file_extension": ".py",
   "mimetype": "text/x-python",
   "name": "python",
   "nbconvert_exporter": "python",
   "pygments_lexer": "ipython3",
   "version": "3.6.4"
  }
 },
 "nbformat": 4,
 "nbformat_minor": 2
}
